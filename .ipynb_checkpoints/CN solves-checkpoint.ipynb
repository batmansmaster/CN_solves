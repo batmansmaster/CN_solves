{
 "cells": [
  {
   "cell_type": "code",
   "execution_count": 1,
   "metadata": {},
   "outputs": [
    {
     "data": {
      "text/html": [
       "<div>\n",
       "<style>\n",
       "    .dataframe thead tr:only-child th {\n",
       "        text-align: right;\n",
       "    }\n",
       "\n",
       "    .dataframe thead th {\n",
       "        text-align: left;\n",
       "    }\n",
       "\n",
       "    .dataframe tbody tr th {\n",
       "        vertical-align: top;\n",
       "    }\n",
       "</style>\n",
       "<table border=\"1\" class=\"dataframe\">\n",
       "  <thead>\n",
       "    <tr style=\"text-align: right;\">\n",
       "      <th></th>\n",
       "      <th>No.</th>\n",
       "      <th>Time</th>\n",
       "      <th>Comment</th>\n",
       "      <th>Scramble</th>\n",
       "    </tr>\n",
       "  </thead>\n",
       "  <tbody>\n",
       "    <tr>\n",
       "      <th>0</th>\n",
       "      <td>1</td>\n",
       "      <td>15.216</td>\n",
       "      <td>B</td>\n",
       "      <td>U D R2 F' B2 D' F2 B' U' B2 D2 B2 D2 L U2 R B2...</td>\n",
       "    </tr>\n",
       "    <tr>\n",
       "      <th>1</th>\n",
       "      <td>2</td>\n",
       "      <td>14.800</td>\n",
       "      <td>B</td>\n",
       "      <td>D2 R' D2 B2 D2 R F2 R D2 L F2 U' L' R' F' U2 R...</td>\n",
       "    </tr>\n",
       "    <tr>\n",
       "      <th>2</th>\n",
       "      <td>3</td>\n",
       "      <td>18.455</td>\n",
       "      <td>R</td>\n",
       "      <td>F' U2 D' B2 L D2 L' D' R D2 F D2 B' R2 U2 F2 R2</td>\n",
       "    </tr>\n",
       "    <tr>\n",
       "      <th>3</th>\n",
       "      <td>4</td>\n",
       "      <td>14.717</td>\n",
       "      <td>O</td>\n",
       "      <td>B' R2 B2 D2 R' B2 R' F2 D2 R' D2 L2 D' L' U2 R...</td>\n",
       "    </tr>\n",
       "    <tr>\n",
       "      <th>4</th>\n",
       "      <td>5</td>\n",
       "      <td>22.817</td>\n",
       "      <td>O</td>\n",
       "      <td>F' L2 D' R2 U2 R2 U B2 U R2 B U L' U2 R2 D2 F ...</td>\n",
       "    </tr>\n",
       "    <tr>\n",
       "      <th>5</th>\n",
       "      <td>6</td>\n",
       "      <td>12.770</td>\n",
       "      <td>W</td>\n",
       "      <td>F2 R F' R' U' F' B' R B2 U' R' U2 L F2 L2 U2 R...</td>\n",
       "    </tr>\n",
       "    <tr>\n",
       "      <th>6</th>\n",
       "      <td>7</td>\n",
       "      <td>18.035</td>\n",
       "      <td>O</td>\n",
       "      <td>L' D U R2 U' B2 L2 B2 L2 D' F2 R B2 R B L' D B...</td>\n",
       "    </tr>\n",
       "    <tr>\n",
       "      <th>7</th>\n",
       "      <td>8</td>\n",
       "      <td>12.806</td>\n",
       "      <td>W</td>\n",
       "      <td>U2 R2 D2 B R' L D L2 D L' R2 U2 B2 U2 F2 U F2 ...</td>\n",
       "    </tr>\n",
       "    <tr>\n",
       "      <th>8</th>\n",
       "      <td>9</td>\n",
       "      <td>12.353</td>\n",
       "      <td>Y</td>\n",
       "      <td>L2 D2 L' U R B U' F' L B' D2 L2 F2 R' U2 L2 F2 B2</td>\n",
       "    </tr>\n",
       "    <tr>\n",
       "      <th>9</th>\n",
       "      <td>10</td>\n",
       "      <td>17.974</td>\n",
       "      <td>B</td>\n",
       "      <td>F2 D' R2 D F2 D U2 R2 B2 D2 F2 B' R' U F D' R2...</td>\n",
       "    </tr>\n",
       "    <tr>\n",
       "      <th>10</th>\n",
       "      <td>11</td>\n",
       "      <td>18.777</td>\n",
       "      <td>O</td>\n",
       "      <td>B2 D2 F2 R2 D' U' F2 R2 U F2 U' B' L D' B2 U B...</td>\n",
       "    </tr>\n",
       "    <tr>\n",
       "      <th>11</th>\n",
       "      <td>12</td>\n",
       "      <td>11.525</td>\n",
       "      <td>Y</td>\n",
       "      <td>F2 D L2 R2 D R2 D' R2 F2 D U2 F' U' B2 U2 F L'...</td>\n",
       "    </tr>\n",
       "    <tr>\n",
       "      <th>12</th>\n",
       "      <td>13</td>\n",
       "      <td>13.602</td>\n",
       "      <td>R</td>\n",
       "      <td>L' B' U F2 L2 D L F2 U2 F' U' F2 L2 B2 L2 B2 U...</td>\n",
       "    </tr>\n",
       "    <tr>\n",
       "      <th>13</th>\n",
       "      <td>14</td>\n",
       "      <td>18.645</td>\n",
       "      <td>B</td>\n",
       "      <td>F2 U' F2 R' F2 U F' U' D' B2 L F2 R D2 R2 L D2...</td>\n",
       "    </tr>\n",
       "    <tr>\n",
       "      <th>14</th>\n",
       "      <td>15</td>\n",
       "      <td>16.085</td>\n",
       "      <td>O</td>\n",
       "      <td>D2 L2 U B2 R2 D L2 B2 U' L2 R' F2 D' U L' B L ...</td>\n",
       "    </tr>\n",
       "  </tbody>\n",
       "</table>\n",
       "</div>"
      ],
      "text/plain": [
       "    No.    Time Comment                                           Scramble\n",
       "0     1  15.216       B  U D R2 F' B2 D' F2 B' U' B2 D2 B2 D2 L U2 R B2...\n",
       "1     2  14.800       B  D2 R' D2 B2 D2 R F2 R D2 L F2 U' L' R' F' U2 R...\n",
       "2     3  18.455       R    F' U2 D' B2 L D2 L' D' R D2 F D2 B' R2 U2 F2 R2\n",
       "3     4  14.717       O  B' R2 B2 D2 R' B2 R' F2 D2 R' D2 L2 D' L' U2 R...\n",
       "4     5  22.817       O  F' L2 D' R2 U2 R2 U B2 U R2 B U L' U2 R2 D2 F ...\n",
       "5     6  12.770       W  F2 R F' R' U' F' B' R B2 U' R' U2 L F2 L2 U2 R...\n",
       "6     7  18.035       O  L' D U R2 U' B2 L2 B2 L2 D' F2 R B2 R B L' D B...\n",
       "7     8  12.806       W  U2 R2 D2 B R' L D L2 D L' R2 U2 B2 U2 F2 U F2 ...\n",
       "8     9  12.353       Y  L2 D2 L' U R B U' F' L B' D2 L2 F2 R' U2 L2 F2 B2\n",
       "9    10  17.974       B  F2 D' R2 D F2 D U2 R2 B2 D2 F2 B' R' U F D' R2...\n",
       "10   11  18.777       O  B2 D2 F2 R2 D' U' F2 R2 U F2 U' B' L D' B2 U B...\n",
       "11   12  11.525       Y  F2 D L2 R2 D R2 D' R2 F2 D U2 F' U' B2 U2 F L'...\n",
       "12   13  13.602       R  L' B' U F2 L2 D L F2 U2 F' U' F2 L2 B2 L2 B2 U...\n",
       "13   14  18.645       B  F2 U' F2 R' F2 U F' U' D' B2 L F2 R D2 R2 L D2...\n",
       "14   15  16.085       O  D2 L2 U B2 R2 D L2 B2 U' L2 R' F2 D' U L' B L ..."
      ]
     },
     "execution_count": 1,
     "metadata": {},
     "output_type": "execute_result"
    }
   ],
   "source": [
    "import pandas as pd\n",
    "import matplotlib.pyplot as plt\n",
    "data = pd.read_csv('./csTimerExport.csv', sep=',')\n",
    "data.head(15)"
   ]
  },
  {
   "cell_type": "code",
   "execution_count": 2,
   "metadata": {},
   "outputs": [
    {
     "data": {
      "text/plain": [
       "count    21.000000\n",
       "mean     15.091857\n",
       "std       3.130093\n",
       "min      10.893000\n",
       "25%      13.139000\n",
       "50%      14.802000\n",
       "75%      16.668000\n",
       "max      22.817000\n",
       "Name: Time, dtype: float64"
      ]
     },
     "execution_count": 2,
     "metadata": {},
     "output_type": "execute_result"
    }
   ],
   "source": [
    "orange_cross=data[(data['Comment']=='O')]\n",
    "orange_cross['Time'].describe()\n"
   ]
  },
  {
   "cell_type": "code",
   "execution_count": 3,
   "metadata": {},
   "outputs": [
    {
     "data": {
      "text/plain": [
       "count    13.000000\n",
       "mean     14.624615\n",
       "std       2.128406\n",
       "min      11.131000\n",
       "25%      13.602000\n",
       "50%      14.158000\n",
       "75%      15.657000\n",
       "max      18.455000\n",
       "Name: Time, dtype: float64"
      ]
     },
     "execution_count": 3,
     "metadata": {},
     "output_type": "execute_result"
    }
   ],
   "source": [
    "red_cross=data[(data['Comment']=='R')]\n",
    "red_cross['Time'].describe()\n"
   ]
  },
  {
   "cell_type": "code",
   "execution_count": 4,
   "metadata": {},
   "outputs": [
    {
     "data": {
      "text/plain": [
       "count    13.000000\n",
       "mean     15.531923\n",
       "std       2.446469\n",
       "min      11.476000\n",
       "25%      14.310000\n",
       "50%      14.800000\n",
       "75%      16.887000\n",
       "max      20.030000\n",
       "Name: Time, dtype: float64"
      ]
     },
     "execution_count": 4,
     "metadata": {},
     "output_type": "execute_result"
    }
   ],
   "source": [
    "blue_cross=data[(data['Comment']=='B')]\n",
    "blue_cross['Time'].describe()\n"
   ]
  },
  {
   "cell_type": "code",
   "execution_count": 5,
   "metadata": {},
   "outputs": [
    {
     "data": {
      "text/plain": [
       "count    21.000000\n",
       "mean     13.572143\n",
       "std       1.897263\n",
       "min      10.077000\n",
       "25%      12.449000\n",
       "50%      13.707000\n",
       "75%      14.211000\n",
       "max      18.412000\n",
       "Name: Time, dtype: float64"
      ]
     },
     "execution_count": 5,
     "metadata": {},
     "output_type": "execute_result"
    }
   ],
   "source": [
    "green_cross=data[(data['Comment']=='G')]\n",
    "green_cross['Time'].describe()"
   ]
  },
  {
   "cell_type": "code",
   "execution_count": 6,
   "metadata": {},
   "outputs": [
    {
     "data": {
      "text/plain": [
       "count    12.000000\n",
       "mean     11.566750\n",
       "std       1.808697\n",
       "min       8.848000\n",
       "25%      10.179250\n",
       "50%      11.349000\n",
       "75%      12.779000\n",
       "max      14.878000\n",
       "Name: Time, dtype: float64"
      ]
     },
     "execution_count": 6,
     "metadata": {},
     "output_type": "execute_result"
    }
   ],
   "source": [
    "white_cross=data[(data['Comment']=='W')]\n",
    "white_cross['Time'].describe()"
   ]
  },
  {
   "cell_type": "code",
   "execution_count": 7,
   "metadata": {},
   "outputs": [
    {
     "data": {
      "text/plain": [
       "count    17.000000\n",
       "mean     13.012941\n",
       "std       2.438746\n",
       "min       9.626000\n",
       "25%      11.089000\n",
       "50%      12.353000\n",
       "75%      14.276000\n",
       "max      19.252000\n",
       "Name: Time, dtype: float64"
      ]
     },
     "execution_count": 7,
     "metadata": {},
     "output_type": "execute_result"
    }
   ],
   "source": [
    "yellow_cross=data[(data['Comment']=='Y')]\n",
    "yellow_cross['Time'].describe()\n"
   ]
  },
  {
   "cell_type": "code",
   "execution_count": 8,
   "metadata": {},
   "outputs": [
    {
     "data": {
      "image/png": "[encoded data removed]",
      "text/plain": [
       "<matplotlib.figure.Figure at 0x119a10f60>"
      ]
     },
     "metadata": {},
     "output_type": "display_data"
    }
   ],
   "source": [
    "slices = [red_cross['Comment'].count(),orange_cross['Comment'].count(),yellow_cross['Comment'].count(),white_cross['Comment'].count(),blue_cross['Comment'].count(),green_cross['Comment'].count()]\n",
    "crosses = ['Red Cross','Orange Cross','Yellow Cross','White Cross','Blue Cross', 'Green Cross']\n",
    "cols = ['r','#ffa500','y','w','b','g']\n",
    "\n",
    "plt.pie(slices,\n",
    "        labels=crosses,\n",
    "        colors=cols,\n",
    "        autopct='%1.1f%%',\n",
    "        shadow=True, startangle=90\n",
    ")\n",
    "\n",
    "plt.title('Percentage of color cross solved')\n",
    "plt.show()"
   ]
  },
  {
   "cell_type": "code",
   "execution_count": 9,
   "metadata": {},
   "outputs": [
    {
     "data": {
      "image/png": "[encoded data removed]",
      "text/plain": [
       "<matplotlib.figure.Figure at 0x11cc0b240>"
      ]
     },
     "metadata": {},
     "output_type": "display_data"
    }
   ],
   "source": [
    "y = [red_cross['Time'].mean(),orange_cross['Time'].mean(),yellow_cross['Time'].mean(),white_cross['Time'].mean(),blue_cross['Time'].mean(),green_cross['Time'].mean()]\n",
    "labels = ['Red Cross','Orange Cross','Yellow Cross','White Cross','Blue Cross', 'Green Cross']\n",
    "cols = ['r','#ffa500','y','w','b','g']\n",
    "x=[1,2,3,4,5,6]\n",
    "width=1/1.\n",
    "plt.bar(x, y, width, color=cols,edgecolor='000')\n",
    "plt.show()\n",
    "\n"
   ]
  }
 ],
 "metadata": {
  "kernelspec": {
   "display_name": "Python 3",
   "language": "python",
   "name": "python3"
  },
  "language_info": {
   "codemirror_mode": {
    "name": "ipython",
    "version": 3
   },
   "file_extension": ".py",
   "mimetype": "text/x-python",
   "name": "python",
   "nbconvert_exporter": "python",
   "pygments_lexer": "ipython3",
   "version": "3.6.1"
  }
 },
 "nbformat": 4,
 "nbformat_minor": 2
}
